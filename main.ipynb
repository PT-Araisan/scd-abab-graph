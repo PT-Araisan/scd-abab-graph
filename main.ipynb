{
  "cells": [
    {
      "cell_type": "code",
      "execution_count": null,
      "metadata": {
        "id": "Eml51i6NYr6H"
      },
      "outputs": [],
      "source": [
        "!pip install japanize-matplotlib\n",
        "\n",
        "import pandas as pd\n",
        "import seaborn as sns\n",
        "import matplotlib.pyplot as plt\n",
        "import japanize_matplotlib\n",
        "\n",
        "def load_and_preprocess_data(csv_file):\n",
        "    df = pd.read_csv(csv_file, encoding='shift_jis')\n",
        "    dependent_variable_col = df.columns[0]  \n",
        "    condition_col = df.columns[1]  \n",
        "    participant_col = df.columns[2]  \n",
        "    session_col = df.columns[3]  \n",
        "\n",
        "    df['condition_change'] = (df[condition_col] != df[condition_col].shift()).cumsum()\n",
        "    df['independent_session'] = df[condition_col] + '_' + df['condition_change'].astype(str)\n",
        "    \n",
        "    return df, dependent_variable_col, condition_col, participant_col, session_col\n",
        "\n",
        "def plot_abc_bc_patient_data(csv_file):\n",
        "    sns.set(\n",
        "        font='IPAexGothic',\n",
        "        palette='Set2',\n",
        "        context='paper'\n",
        "    )\n",
        "    \n",
        "    df, dependent_variable_col, condition_col, participant_col, session_col = load_and_preprocess_data(csv_file)\n",
        "    \n",
        "    color_map = {condition: sns.color_palette(\"Set2\")[i] for i, condition in enumerate(df[condition_col].unique())}\n",
        "\n",
        "    for participant in df[participant_col].unique():\n",
        "        participant_data = df[df[participant_col] == participant]\n",
        "        plt.figure(figsize=(10, 4))\n",
        "\n",
        "        for session in participant_data['independent_session'].unique():\n",
        "            session_data = participant_data[participant_data['independent_session'] == session]\n",
        "            condition = session.split('_')[0]  \n",
        "            sns.lineplot(data=session_data, x=session_col, y=dependent_variable_col, marker='o', \n",
        "                         linewidth=2.5, markersize=8, color=color_map[condition], label=condition)\n",
        "\n",
        "        for i in range(1, len(participant_data)):\n",
        "            if participant_data['independent_session'].iloc[i] != participant_data['independent_session'].iloc[i - 1]:\n",
        "                plt.axvline(x=participant_data[session_col].iloc[i] - 0.5, color='red', linestyle='--', linewidth=2)\n",
        "\n",
        "        plt.xlabel(session_col, fontsize=16)\n",
        "        plt.ylabel(dependent_variable_col, fontsize=16)\n",
        "        plt.tick_params(axis='both', labelsize=14)\n",
        "        \n",
        "        plt.grid(color='grey', linestyle='--', linewidth=0.7, alpha=0.7)\n",
        "\n",
        "        plt.xticks(rotation=45)  \n",
        "        plt.yticks(fontsize=12)\n",
        "        \n",
        "        plt.gca().xaxis.set_major_locator(plt.MaxNLocator(integer=True))  \n",
        "        plt.gca().yaxis.set_major_locator(plt.MaxNLocator(nbins=8))  \n",
        "\n",
        "        handles, labels = plt.gca().get_legend_handles_labels()\n",
        "        unique_labels = list(df[condition_col].unique())\n",
        "        by_label = dict(zip(labels, handles))\n",
        "        plt.legend([by_label[label] for label in by_label if label.split('_')[0] in unique_labels],\n",
        "                   unique_labels, title=condition_col, fontsize=14, title_fontsize=16)\n",
        "\n",
        "        plt.tight_layout()\n",
        "        plt.show()\n",
        "\n",
        "# 以下の「hoge.csv」の場所にて、CSVファイルの名前を書き換えてください。\n",
        "plot_abc_bc_patient_data('hoge.csv')\n"
      ]
    }
  ],
  "metadata": {
    "colab": {
      "provenance": []
    },
    "kernelspec": {
      "display_name": "Python 3",
      "name": "python3"
    },
    "language_info": {
      "name": "python"
    }
  },
  "nbformat": 4,
  "nbformat_minor": 0
}
